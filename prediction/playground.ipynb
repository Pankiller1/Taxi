{
 "cells": [
  {
   "cell_type": "markdown",
   "metadata": {},
   "source": [
    "### Import Modules"
   ]
  },
  {
   "cell_type": "code",
   "execution_count": 14,
   "metadata": {},
   "outputs": [],
   "source": [
    "# Preprocess import\n",
    "import pandas as pd\n",
    "import numpy as np\n",
    "\n",
    "# pytorch import\n",
    "from tqdm import tqdm\n",
    "import torch\n",
    "import torch.nn as nn\n",
    "from torch.utils.data import DataLoader, Dataset, random_split"
   ]
  },
  {
   "cell_type": "markdown",
   "metadata": {},
   "source": [
    "### Run and test the simple 2-layer lstm predictor\n",
    "\n",
    "Before that, go to `/utils` and run `preparation.py` then `traj_token.py`, make sure your data is located like `/data/taxi/2018-10-1.csv`, ..."
   ]
  },
  {
   "cell_type": "code",
   "execution_count": 15,
   "metadata": {},
   "outputs": [
    {
     "name": "stdout",
     "output_type": "stream",
     "text": [
      "                                processed_trajectory  time_elapsed\n",
      "0  [[-20, -20, 0, 0, -1], [104.126265, 30.650542,...        1618.0\n",
      "1  [[-20, -20, 0, 0, -1], [104.057351, 30.692118,...        2185.0\n",
      "2  [[-20, -20, 0, 0, -1], [104.057363, 30.69315, ...        1569.0\n",
      "3  [[-20, -20, 0, 0, -1], [104.124865, 30.605235,...        1383.0\n",
      "4  [[-20, -20, 0, 0, -1], [104.058942, 30.680353,...        1364.0\n",
      "The dataset contains 11574 rows.\n"
     ]
    }
   ],
   "source": [
    "# Specify the file path\n",
    "file_path = \"../data/token_traj_chengdu_4d.csv\"  # Replace with your actual file path\n",
    "\n",
    "# Load the CSV file\n",
    "data = pd.read_csv(file_path)\n",
    "\n",
    "# Display the first five rows\n",
    "print(data.head(5))\n",
    "\n",
    "# Get the number of rows\n",
    "num_rows = len(data)\n",
    "\n",
    "print(f\"The dataset contains {num_rows} rows.\")"
   ]
  },
  {
   "cell_type": "markdown",
   "metadata": {},
   "source": [
    "### Load, Split and Train\n",
    "Remember set sample = 0 if you want to use the whole dataset. The whole dataset takes about 45 minutes to load in."
   ]
  },
  {
   "cell_type": "code",
   "execution_count": 16,
   "metadata": {},
   "outputs": [],
   "source": [
    "class TrajectoryDataset(Dataset):\n",
    "    def __init__(self, data_path, sample=1, max_rows=10000):\n",
    "        if sample:\n",
    "            self.data = pd.read_csv(data_path, nrows=max_rows)\n",
    "        else:\n",
    "            self.data = pd.read_csv(data_path)\n",
    "        self.x = self.data['processed_trajectory'].apply(eval).tolist()\n",
    "        self.y = self.data['time_elapsed'].values.astype(np.float32)\n",
    "    \n",
    "    def __len__(self):\n",
    "        return len(self.data)\n",
    "    \n",
    "    def __getitem__(self, idx):\n",
    "        x = torch.tensor(self.x[idx], dtype=torch.float32)\n",
    "        y = torch.tensor(self.y[idx], dtype=torch.float32)\n",
    "        return x, y"
   ]
  },
  {
   "cell_type": "code",
   "execution_count": 17,
   "metadata": {},
   "outputs": [],
   "source": [
    "# data_path = \"../data/token_traj.csv\"\n",
    "data_path = \"../data/token_traj_chengdu_4d.csv\"\n",
    "dataset = TrajectoryDataset(data_path, sample = 1, max_rows=5000)\n",
    "\n",
    "# Split the dataset into train/val/test = 7/1/2\n",
    "train_size = int(0.7 * len(dataset))\n",
    "val_size = int(0.1 * len(dataset))\n",
    "test_size = len(dataset) - train_size - val_size\n",
    "train_set, val_set, test_set = random_split(dataset, [train_size, val_size, test_size])\n",
    "\n",
    "train_loader = DataLoader(train_set, batch_size=32, shuffle=True)\n",
    "val_loader = DataLoader(val_set, batch_size=32, shuffle=False)\n",
    "test_loader = DataLoader(test_set, batch_size=32, shuffle=False)"
   ]
  },
  {
   "cell_type": "code",
   "execution_count": 18,
   "metadata": {},
   "outputs": [],
   "source": [
    "def mape_loss(y_true, y_pred):\n",
    "    return torch.mean(torch.abs((y_true - y_pred) / y_true))"
   ]
  },
  {
   "cell_type": "code",
   "execution_count": 19,
   "metadata": {},
   "outputs": [],
   "source": [
    "def train_model(model, train_loader, val_loader, epochs=10, lr=0.001, device=\"cpu\", batch_size=32):\n",
    "    model = model.to(device)\n",
    "    criterion = nn.MSELoss()\n",
    "    optimizer = torch.optim.Adam(model.parameters(), lr=lr)\n",
    "\n",
    "    for epoch in range(epochs):\n",
    "        # Training phase\n",
    "        model.train()\n",
    "        train_loss = 0\n",
    "        train_mape = 0\n",
    "        train_bar = tqdm(train_loader, desc=f\"Training Epoch {epoch+1}/{epochs}\")\n",
    "        cnt = 0\n",
    "        for x_batch, y_batch in train_bar:\n",
    "            x_batch, y_batch = x_batch.to(device), y_batch.to(device)\n",
    "            optimizer.zero_grad()\n",
    "            predictions = model(x_batch)\n",
    "            loss = criterion(predictions, y_batch)\n",
    "            loss.backward()\n",
    "            optimizer.step()\n",
    "            train_loss += (loss.item() / batch_size)\n",
    "            train_mape += mape_loss(y_batch, predictions).item()\n",
    "            cnt += 1\n",
    "\n",
    "            # print(\"Y true: \", y_batch[0])\n",
    "            # print(\"Y pred: \", predictions[0])\n",
    "            train_bar.set_postfix({\"Train Loss\": (train_loss / cnt), \"Train RMSE\": (np.sqrt(train_loss / cnt)), \"Train MAPE\": (train_mape / cnt)})\n",
    "        \n",
    "        # print(f\"Epoch {epoch+1}, Train MSE Loss: {train_loss / cnt}, Train RMSE: {np.sqrt(train_loss / cnt)}, Train MAPE: {(train_mape / cnt)}\")\n",
    "\n",
    "        # Validation phase\n",
    "        model.eval()\n",
    "        val_loss = 0\n",
    "        val_mape = 0\n",
    "        val_bar = tqdm(val_loader, desc=f\"Validation Epoch {epoch+1}/{epochs}\")\n",
    "        cnt_val = 0\n",
    "        with torch.no_grad():\n",
    "            for x_batch, y_batch in val_bar:\n",
    "                x_batch, y_batch = x_batch.to(device), y_batch.to(device)\n",
    "                predictions = model(x_batch)\n",
    "                loss = criterion(predictions, y_batch)\n",
    "                val_loss += loss.item() / batch_size\n",
    "                val_mape += mape_loss(y_batch, predictions).item()\n",
    "                cnt_val += 1\n",
    "                val_bar.set_postfix({\"Val Loss\": (val_loss / cnt_val), \"Val RMSE\": (np.sqrt(val_loss / cnt_val)), \"Val MAPE\": (val_mape / cnt_val)})\n",
    "        \n",
    "        # print(f\"Epoch {epoch+1}, Val Loss: {val_loss / cnt_val}, Val MAPE: {np.sqrt(val_loss / cnt_val)}, Train MAPE: {(val_mape / cnt_val)}\")"
   ]
  },
  {
   "cell_type": "code",
   "execution_count": 20,
   "metadata": {},
   "outputs": [],
   "source": [
    "def test_model(model, test_loader, device=\"cpu\", batch_size = 32):\n",
    "    model = model.to(device)\n",
    "    model.eval()\n",
    "    test_loss = 0\n",
    "    test_mape = 0\n",
    "    criterion = nn.MSELoss()\n",
    "    test_bar = tqdm(test_loader, desc=\"Testing\")\n",
    "    cnt = 0\n",
    "    with torch.no_grad():\n",
    "        for x_batch, y_batch in test_bar:\n",
    "            x_batch, y_batch = x_batch.to(device), y_batch.to(device)\n",
    "            predictions = model(x_batch)\n",
    "            loss = criterion(predictions, y_batch)\n",
    "            test_loss += loss.item() / batch_size\n",
    "            test_mape += mape_loss(y_batch, predictions).item()\n",
    "            cnt += 1\n",
    "            test_bar.set_postfix({\"Test Loss\": (test_loss / cnt), \"Test RMSE\": (np.sqrt(test_loss / cnt)), \"Test MAPE\": (test_mape / cnt)})"
   ]
  },
  {
   "cell_type": "markdown",
   "metadata": {},
   "source": [
    "### Bi-LSTM"
   ]
  },
  {
   "cell_type": "code",
   "execution_count": 21,
   "metadata": {},
   "outputs": [],
   "source": [
    "# Define the bi-LSTM model\n",
    "class BiLSTMTimePredictor(nn.Module):\n",
    "    def __init__(self, input_dim=3, hidden_dim=128, num_layers=2):\n",
    "        super(BiLSTMTimePredictor, self).__init__()\n",
    "        self.encoder = nn.LSTM(\n",
    "            input_dim, hidden_dim, num_layers=num_layers, batch_first=True, bidirectional=True\n",
    "        )\n",
    "        self.classifier = nn.Linear(hidden_dim * 2 * num_layers, 1)  # *2 because bidirectional\n",
    "        \n",
    "    def forward(self, x):\n",
    "        # print(\"DEBUG: x shape: \", x.shape)\n",
    "        _, (hidden, _) = self.encoder(x)  # hidden shape: (num_layers*2, batch_size, hidden_dim)\n",
    "        # print(\"DEBUG: hidden shape before: \", hidden.shape)\n",
    "        hidden = hidden.permute(1, 0, 2).reshape(x.size(0), -1)  # Flatten hidden states\n",
    "        # print(\"DEBUG: hidden shape: \", hidden.shape)\n",
    "        return self.classifier(hidden).squeeze(-1)"
   ]
  },
  {
   "cell_type": "markdown",
   "metadata": {},
   "source": [
    "This takes 73 minutes on the 4090 gpu server. Final RMSE=104, MAPE=0.514"
   ]
  },
  {
   "cell_type": "code",
   "execution_count": 22,
   "metadata": {},
   "outputs": [
    {
     "name": "stderr",
     "output_type": "stream",
     "text": [
      "Training Epoch 1/10:   5%|▍         | 5/110 [00:17<06:11,  3.54s/it, Train Loss=5.3e+4, Train RMSE=230, Train MAPE=1] \n"
     ]
    },
    {
     "ename": "KeyboardInterrupt",
     "evalue": "",
     "output_type": "error",
     "traceback": [
      "\u001b[0;31m---------------------------------------------------------------------------\u001b[0m",
      "\u001b[0;31mKeyboardInterrupt\u001b[0m                         Traceback (most recent call last)",
      "Cell \u001b[0;32mIn[22], line 6\u001b[0m\n\u001b[1;32m      3\u001b[0m model \u001b[38;5;241m=\u001b[39m BiLSTMTimePredictor(input_dim\u001b[38;5;241m=\u001b[39mnum_feature\u001b[38;5;241m+\u001b[39m\u001b[38;5;241m1\u001b[39m, num_layers\u001b[38;5;241m=\u001b[39m\u001b[38;5;241m2\u001b[39m)\n\u001b[1;32m      5\u001b[0m device \u001b[38;5;241m=\u001b[39m torch\u001b[38;5;241m.\u001b[39mdevice(\u001b[38;5;124m\"\u001b[39m\u001b[38;5;124mcuda\u001b[39m\u001b[38;5;124m\"\u001b[39m \u001b[38;5;28;01mif\u001b[39;00m torch\u001b[38;5;241m.\u001b[39mcuda\u001b[38;5;241m.\u001b[39mis_available() \u001b[38;5;28;01melse\u001b[39;00m \u001b[38;5;124m\"\u001b[39m\u001b[38;5;124mcpu\u001b[39m\u001b[38;5;124m\"\u001b[39m)\n\u001b[0;32m----> 6\u001b[0m \u001b[43mtrain_model\u001b[49m\u001b[43m(\u001b[49m\u001b[43mmodel\u001b[49m\u001b[43m,\u001b[49m\u001b[43m \u001b[49m\u001b[43mtrain_loader\u001b[49m\u001b[43m,\u001b[49m\u001b[43m \u001b[49m\u001b[43mval_loader\u001b[49m\u001b[43m,\u001b[49m\u001b[43m \u001b[49m\u001b[43mepochs\u001b[49m\u001b[38;5;241;43m=\u001b[39;49m\u001b[38;5;241;43m10\u001b[39;49m\u001b[43m,\u001b[49m\u001b[43m \u001b[49m\u001b[43mlr\u001b[49m\u001b[38;5;241;43m=\u001b[39;49m\u001b[38;5;241;43m0.001\u001b[39;49m\u001b[43m,\u001b[49m\u001b[43m \u001b[49m\u001b[43mdevice\u001b[49m\u001b[38;5;241;43m=\u001b[39;49m\u001b[43mdevice\u001b[49m\u001b[43m)\u001b[49m\n",
      "Cell \u001b[0;32mIn[19], line 16\u001b[0m, in \u001b[0;36mtrain_model\u001b[0;34m(model, train_loader, val_loader, epochs, lr, device, batch_size)\u001b[0m\n\u001b[1;32m     14\u001b[0m x_batch, y_batch \u001b[38;5;241m=\u001b[39m x_batch\u001b[38;5;241m.\u001b[39mto(device), y_batch\u001b[38;5;241m.\u001b[39mto(device)\n\u001b[1;32m     15\u001b[0m optimizer\u001b[38;5;241m.\u001b[39mzero_grad()\n\u001b[0;32m---> 16\u001b[0m predictions \u001b[38;5;241m=\u001b[39m \u001b[43mmodel\u001b[49m\u001b[43m(\u001b[49m\u001b[43mx_batch\u001b[49m\u001b[43m)\u001b[49m\n\u001b[1;32m     17\u001b[0m loss \u001b[38;5;241m=\u001b[39m criterion(predictions, y_batch)\n\u001b[1;32m     18\u001b[0m loss\u001b[38;5;241m.\u001b[39mbackward()\n",
      "File \u001b[0;32m/opt/homebrew/anaconda3/envs/nlp/lib/python3.11/site-packages/torch/nn/modules/module.py:1501\u001b[0m, in \u001b[0;36mModule._call_impl\u001b[0;34m(self, *args, **kwargs)\u001b[0m\n\u001b[1;32m   1496\u001b[0m \u001b[38;5;66;03m# If we don't have any hooks, we want to skip the rest of the logic in\u001b[39;00m\n\u001b[1;32m   1497\u001b[0m \u001b[38;5;66;03m# this function, and just call forward.\u001b[39;00m\n\u001b[1;32m   1498\u001b[0m \u001b[38;5;28;01mif\u001b[39;00m \u001b[38;5;129;01mnot\u001b[39;00m (\u001b[38;5;28mself\u001b[39m\u001b[38;5;241m.\u001b[39m_backward_hooks \u001b[38;5;129;01mor\u001b[39;00m \u001b[38;5;28mself\u001b[39m\u001b[38;5;241m.\u001b[39m_backward_pre_hooks \u001b[38;5;129;01mor\u001b[39;00m \u001b[38;5;28mself\u001b[39m\u001b[38;5;241m.\u001b[39m_forward_hooks \u001b[38;5;129;01mor\u001b[39;00m \u001b[38;5;28mself\u001b[39m\u001b[38;5;241m.\u001b[39m_forward_pre_hooks\n\u001b[1;32m   1499\u001b[0m         \u001b[38;5;129;01mor\u001b[39;00m _global_backward_pre_hooks \u001b[38;5;129;01mor\u001b[39;00m _global_backward_hooks\n\u001b[1;32m   1500\u001b[0m         \u001b[38;5;129;01mor\u001b[39;00m _global_forward_hooks \u001b[38;5;129;01mor\u001b[39;00m _global_forward_pre_hooks):\n\u001b[0;32m-> 1501\u001b[0m     \u001b[38;5;28;01mreturn\u001b[39;00m \u001b[43mforward_call\u001b[49m\u001b[43m(\u001b[49m\u001b[38;5;241;43m*\u001b[39;49m\u001b[43margs\u001b[49m\u001b[43m,\u001b[49m\u001b[43m \u001b[49m\u001b[38;5;241;43m*\u001b[39;49m\u001b[38;5;241;43m*\u001b[39;49m\u001b[43mkwargs\u001b[49m\u001b[43m)\u001b[49m\n\u001b[1;32m   1502\u001b[0m \u001b[38;5;66;03m# Do not call functions when jit is used\u001b[39;00m\n\u001b[1;32m   1503\u001b[0m full_backward_hooks, non_full_backward_hooks \u001b[38;5;241m=\u001b[39m [], []\n",
      "Cell \u001b[0;32mIn[21], line 12\u001b[0m, in \u001b[0;36mBiLSTMTimePredictor.forward\u001b[0;34m(self, x)\u001b[0m\n\u001b[1;32m     10\u001b[0m \u001b[38;5;28;01mdef\u001b[39;00m \u001b[38;5;21mforward\u001b[39m(\u001b[38;5;28mself\u001b[39m, x):\n\u001b[1;32m     11\u001b[0m     \u001b[38;5;66;03m# print(\"DEBUG: x shape: \", x.shape)\u001b[39;00m\n\u001b[0;32m---> 12\u001b[0m     _, (hidden, _) \u001b[38;5;241m=\u001b[39m \u001b[38;5;28;43mself\u001b[39;49m\u001b[38;5;241;43m.\u001b[39;49m\u001b[43mencoder\u001b[49m\u001b[43m(\u001b[49m\u001b[43mx\u001b[49m\u001b[43m)\u001b[49m  \u001b[38;5;66;03m# hidden shape: (num_layers*2, batch_size, hidden_dim)\u001b[39;00m\n\u001b[1;32m     13\u001b[0m     \u001b[38;5;66;03m# print(\"DEBUG: hidden shape before: \", hidden.shape)\u001b[39;00m\n\u001b[1;32m     14\u001b[0m     hidden \u001b[38;5;241m=\u001b[39m hidden\u001b[38;5;241m.\u001b[39mpermute(\u001b[38;5;241m1\u001b[39m, \u001b[38;5;241m0\u001b[39m, \u001b[38;5;241m2\u001b[39m)\u001b[38;5;241m.\u001b[39mreshape(x\u001b[38;5;241m.\u001b[39msize(\u001b[38;5;241m0\u001b[39m), \u001b[38;5;241m-\u001b[39m\u001b[38;5;241m1\u001b[39m)  \u001b[38;5;66;03m# Flatten hidden states\u001b[39;00m\n",
      "File \u001b[0;32m/opt/homebrew/anaconda3/envs/nlp/lib/python3.11/site-packages/torch/nn/modules/module.py:1501\u001b[0m, in \u001b[0;36mModule._call_impl\u001b[0;34m(self, *args, **kwargs)\u001b[0m\n\u001b[1;32m   1496\u001b[0m \u001b[38;5;66;03m# If we don't have any hooks, we want to skip the rest of the logic in\u001b[39;00m\n\u001b[1;32m   1497\u001b[0m \u001b[38;5;66;03m# this function, and just call forward.\u001b[39;00m\n\u001b[1;32m   1498\u001b[0m \u001b[38;5;28;01mif\u001b[39;00m \u001b[38;5;129;01mnot\u001b[39;00m (\u001b[38;5;28mself\u001b[39m\u001b[38;5;241m.\u001b[39m_backward_hooks \u001b[38;5;129;01mor\u001b[39;00m \u001b[38;5;28mself\u001b[39m\u001b[38;5;241m.\u001b[39m_backward_pre_hooks \u001b[38;5;129;01mor\u001b[39;00m \u001b[38;5;28mself\u001b[39m\u001b[38;5;241m.\u001b[39m_forward_hooks \u001b[38;5;129;01mor\u001b[39;00m \u001b[38;5;28mself\u001b[39m\u001b[38;5;241m.\u001b[39m_forward_pre_hooks\n\u001b[1;32m   1499\u001b[0m         \u001b[38;5;129;01mor\u001b[39;00m _global_backward_pre_hooks \u001b[38;5;129;01mor\u001b[39;00m _global_backward_hooks\n\u001b[1;32m   1500\u001b[0m         \u001b[38;5;129;01mor\u001b[39;00m _global_forward_hooks \u001b[38;5;129;01mor\u001b[39;00m _global_forward_pre_hooks):\n\u001b[0;32m-> 1501\u001b[0m     \u001b[38;5;28;01mreturn\u001b[39;00m \u001b[43mforward_call\u001b[49m\u001b[43m(\u001b[49m\u001b[38;5;241;43m*\u001b[39;49m\u001b[43margs\u001b[49m\u001b[43m,\u001b[49m\u001b[43m \u001b[49m\u001b[38;5;241;43m*\u001b[39;49m\u001b[38;5;241;43m*\u001b[39;49m\u001b[43mkwargs\u001b[49m\u001b[43m)\u001b[49m\n\u001b[1;32m   1502\u001b[0m \u001b[38;5;66;03m# Do not call functions when jit is used\u001b[39;00m\n\u001b[1;32m   1503\u001b[0m full_backward_hooks, non_full_backward_hooks \u001b[38;5;241m=\u001b[39m [], []\n",
      "File \u001b[0;32m/opt/homebrew/anaconda3/envs/nlp/lib/python3.11/site-packages/torch/nn/modules/rnn.py:812\u001b[0m, in \u001b[0;36mLSTM.forward\u001b[0;34m(self, input, hx)\u001b[0m\n\u001b[1;32m    810\u001b[0m \u001b[38;5;28mself\u001b[39m\u001b[38;5;241m.\u001b[39mcheck_forward_args(\u001b[38;5;28minput\u001b[39m, hx, batch_sizes)\n\u001b[1;32m    811\u001b[0m \u001b[38;5;28;01mif\u001b[39;00m batch_sizes \u001b[38;5;129;01mis\u001b[39;00m \u001b[38;5;28;01mNone\u001b[39;00m:\n\u001b[0;32m--> 812\u001b[0m     result \u001b[38;5;241m=\u001b[39m \u001b[43m_VF\u001b[49m\u001b[38;5;241;43m.\u001b[39;49m\u001b[43mlstm\u001b[49m\u001b[43m(\u001b[49m\u001b[38;5;28;43minput\u001b[39;49m\u001b[43m,\u001b[49m\u001b[43m \u001b[49m\u001b[43mhx\u001b[49m\u001b[43m,\u001b[49m\u001b[43m \u001b[49m\u001b[38;5;28;43mself\u001b[39;49m\u001b[38;5;241;43m.\u001b[39;49m\u001b[43m_flat_weights\u001b[49m\u001b[43m,\u001b[49m\u001b[43m \u001b[49m\u001b[38;5;28;43mself\u001b[39;49m\u001b[38;5;241;43m.\u001b[39;49m\u001b[43mbias\u001b[49m\u001b[43m,\u001b[49m\u001b[43m \u001b[49m\u001b[38;5;28;43mself\u001b[39;49m\u001b[38;5;241;43m.\u001b[39;49m\u001b[43mnum_layers\u001b[49m\u001b[43m,\u001b[49m\n\u001b[1;32m    813\u001b[0m \u001b[43m                      \u001b[49m\u001b[38;5;28;43mself\u001b[39;49m\u001b[38;5;241;43m.\u001b[39;49m\u001b[43mdropout\u001b[49m\u001b[43m,\u001b[49m\u001b[43m \u001b[49m\u001b[38;5;28;43mself\u001b[39;49m\u001b[38;5;241;43m.\u001b[39;49m\u001b[43mtraining\u001b[49m\u001b[43m,\u001b[49m\u001b[43m \u001b[49m\u001b[38;5;28;43mself\u001b[39;49m\u001b[38;5;241;43m.\u001b[39;49m\u001b[43mbidirectional\u001b[49m\u001b[43m,\u001b[49m\u001b[43m \u001b[49m\u001b[38;5;28;43mself\u001b[39;49m\u001b[38;5;241;43m.\u001b[39;49m\u001b[43mbatch_first\u001b[49m\u001b[43m)\u001b[49m\n\u001b[1;32m    814\u001b[0m \u001b[38;5;28;01melse\u001b[39;00m:\n\u001b[1;32m    815\u001b[0m     result \u001b[38;5;241m=\u001b[39m _VF\u001b[38;5;241m.\u001b[39mlstm(\u001b[38;5;28minput\u001b[39m, batch_sizes, hx, \u001b[38;5;28mself\u001b[39m\u001b[38;5;241m.\u001b[39m_flat_weights, \u001b[38;5;28mself\u001b[39m\u001b[38;5;241m.\u001b[39mbias,\n\u001b[1;32m    816\u001b[0m                       \u001b[38;5;28mself\u001b[39m\u001b[38;5;241m.\u001b[39mnum_layers, \u001b[38;5;28mself\u001b[39m\u001b[38;5;241m.\u001b[39mdropout, \u001b[38;5;28mself\u001b[39m\u001b[38;5;241m.\u001b[39mtraining, \u001b[38;5;28mself\u001b[39m\u001b[38;5;241m.\u001b[39mbidirectional)\n",
      "\u001b[0;31mKeyboardInterrupt\u001b[0m: "
     ]
    }
   ],
   "source": [
    "# Train the model on both CPU and GPU\n",
    "num_feature = 4\n",
    "model = BiLSTMTimePredictor(input_dim=num_feature+1, num_layers=2)\n",
    "\n",
    "device = torch.device(\"cuda\" if torch.cuda.is_available() else \"cpu\")\n",
    "train_model(model, train_loader, val_loader, epochs=10, lr=0.001, device=device)"
   ]
  },
  {
   "cell_type": "code",
   "execution_count": 12,
   "metadata": {},
   "outputs": [
    {
     "name": "stderr",
     "output_type": "stream",
     "text": [
      "Testing: 100%|██████████| 63/63 [01:30<00:00,  1.43s/it, Test Loss=1.12e+4, Test RMSE=106, Test MAPE=0.287]\n"
     ]
    }
   ],
   "source": [
    "test_model(model, test_loader, device=device)"
   ]
  },
  {
   "cell_type": "markdown",
   "metadata": {},
   "source": [
    "### Transformer Encoder"
   ]
  },
  {
   "cell_type": "code",
   "execution_count": null,
   "metadata": {},
   "outputs": [],
   "source": [
    "class TransformerTimePredictor(nn.Module):\n",
    "    def __init__(self, input_dim=3, hidden_dim=128, nhead=4, num_encoder_layers=4, mlp_hidden_dim=256):\n",
    "        \"\"\"\n",
    "        Transformer-based model for time prediction.\n",
    "\n",
    "        Args:\n",
    "            input_dim (int): Number of features in each input step (e.g., 2 for [x, y]).\n",
    "            hidden_dim (int): Embedding dimension for the Transformer.\n",
    "            nhead (int): Number of attention heads in the Transformer.\n",
    "            num_encoder_layers (int): Number of Transformer encoder layers.\n",
    "            mlp_hidden_dim (int): Number of hidden units in the MLP classifier.\n",
    "        \"\"\"\n",
    "        super(TransformerTimePredictor, self).__init__()\n",
    "\n",
    "        # Input embedding layer\n",
    "        self.embedding = nn.Linear(input_dim, hidden_dim)\n",
    "\n",
    "        # Transformer encoder\n",
    "        self.encoder_layer = nn.TransformerEncoderLayer(\n",
    "            d_model=hidden_dim, nhead=nhead, dim_feedforward=hidden_dim * 4, batch_first=True\n",
    "        )\n",
    "        self.transformer_encoder = nn.TransformerEncoder(self.encoder_layer, num_layers=num_encoder_layers)\n",
    "\n",
    "        # MLP classifier\n",
    "        self.classifier = nn.Sequential(\n",
    "            nn.Linear(hidden_dim, mlp_hidden_dim),\n",
    "            nn.ReLU(),\n",
    "            nn.Linear(mlp_hidden_dim, mlp_hidden_dim // 2),\n",
    "            nn.ReLU(),\n",
    "            nn.Linear(mlp_hidden_dim // 2, 1),  # Output a single value\n",
    "        )\n",
    "\n",
    "    def forward(self, x):\n",
    "        # Embed input\n",
    "        # print(\"X input: \", x[0])\n",
    "        x = self.embedding(x)  # Shape: (batch_size, seq_length, hidden_dim)\n",
    "        \n",
    "        # Transformer encoding\n",
    "        x = self.transformer_encoder(x)  # Shape: (batch_size, seq_length, hidden_dim)\n",
    "        \n",
    "        # Use only the first token's representation for classification\n",
    "        x = x[:, 0, :]  # Shape: (batch_size, hidden_dim)\n",
    "        \n",
    "        # Classifier\n",
    "        output = self.classifier(x)  # Shape: (batch_size, 1)\n",
    "        # print(output)\n",
    "        return output.squeeze(-1)"
   ]
  },
  {
   "cell_type": "code",
   "execution_count": null,
   "metadata": {},
   "outputs": [],
   "source": [
    "model = TransformerTimePredictor(input_dim=3, hidden_dim=128, nhead=4, num_encoder_layers=4, mlp_hidden_dim=256)\n",
    "\n",
    "train_model(model, train_loader, val_loader, epochs=5, device=device)\n",
    "test_model(model, test_loader, device=device)"
   ]
  }
 ],
 "metadata": {
  "kernelspec": {
   "display_name": "nlp",
   "language": "python",
   "name": "python3"
  },
  "language_info": {
   "codemirror_mode": {
    "name": "ipython",
    "version": 3
   },
   "file_extension": ".py",
   "mimetype": "text/x-python",
   "name": "python",
   "nbconvert_exporter": "python",
   "pygments_lexer": "ipython3",
   "version": "3.11.4"
  }
 },
 "nbformat": 4,
 "nbformat_minor": 2
}
