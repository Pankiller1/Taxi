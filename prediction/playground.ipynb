{
 "cells": [
  {
   "cell_type": "markdown",
   "metadata": {},
   "source": [
    "# Predictor Model Playground"
   ]
  },
  {
   "cell_type": "markdown",
   "metadata": {},
   "source": [
    "### Import Models"
   ]
  },
  {
   "cell_type": "code",
   "execution_count": 1,
   "metadata": {},
   "outputs": [],
   "source": [
    "# Preprocess import\n",
    "import pandas as pd\n",
    "import numpy as np\n",
    "\n",
    "# pytorch import\n",
    "from tqdm import tqdm\n",
    "import torch\n",
    "import torch.nn as nn\n",
    "from torch.utils.data import DataLoader, Dataset, random_split"
   ]
  },
  {
   "cell_type": "markdown",
   "metadata": {},
   "source": [
    "### Run and test the simple 2-layer lstm predictor\n",
    "\n",
    "Before that, go to `/utils` and run `preparation.py` then `rnn_traj_token.py`, make sure your data is located at `/data/taxi`"
   ]
  },
  {
   "cell_type": "code",
   "execution_count": 2,
   "metadata": {},
   "outputs": [
    {
     "name": "stdout",
     "output_type": "stream",
     "text": [
      "                                processed_trajectory  time_elapsed\n",
      "0  [[100, 100], [2.6204999999990264, 5.3615999999...         247.0\n",
      "1  [[100, 100], [2.6082999999999856, 5.0733000000...        1031.0\n",
      "2  [[100, 100], [-2.9032000000000835, 8.980099999...         203.0\n",
      "3  [[100, 100], [-3.342600000000573, 8.4917999999...        3890.0\n",
      "4  [[100, 100], [-2.2126999999997565, 9.253199999...         212.0\n",
      "The dataset contains 290077 rows.\n"
     ]
    }
   ],
   "source": [
    "# Specify the file path\n",
    "file_path = \"../data/token_traj.csv\"  # Replace with your actual file path\n",
    "\n",
    "# Load the CSV file\n",
    "data = pd.read_csv(file_path)\n",
    "\n",
    "# Display the first five rows\n",
    "print(data.head(5))\n",
    "\n",
    "# Get the number of rows\n",
    "num_rows = len(data)\n",
    "\n",
    "print(f\"The dataset contains {num_rows} rows.\")\n"
   ]
  },
  {
   "cell_type": "markdown",
   "metadata": {},
   "source": [
    "### Load, Split and Train\n",
    "To make it easier to play the model, just sample 10000 rows in the csv file. Remember set sample = 0 if you want to use the whole dataset."
   ]
  },
  {
   "cell_type": "code",
   "execution_count": 4,
   "metadata": {},
   "outputs": [],
   "source": [
    "class TrajectoryDataset(Dataset):\n",
    "    def __init__(self, data_path, sample=1, max_rows=10000):\n",
    "        if sample:\n",
    "            self.data = pd.read_csv(data_path, nrows=max_rows)\n",
    "        else:\n",
    "            self.data = pd.read_csv(data_path)\n",
    "        self.x = self.data['processed_trajectory'].apply(eval).tolist()\n",
    "        self.y = self.data['time_elapsed'].values.astype(np.float32)\n",
    "    \n",
    "    def __len__(self):\n",
    "        return len(self.data)\n",
    "    \n",
    "    def __getitem__(self, idx):\n",
    "        x = torch.tensor(self.x[idx], dtype=torch.float32)\n",
    "        y = torch.tensor(self.y[idx], dtype=torch.float32)\n",
    "        return x, y"
   ]
  },
  {
   "cell_type": "code",
   "execution_count": 5,
   "metadata": {},
   "outputs": [],
   "source": [
    "data_path = \"../data/token_traj.csv\"\n",
    "dataset = TrajectoryDataset(data_path, sample = 1)\n",
    "\n",
    "# Split the dataset into train/val/test = 7/1/2\n",
    "train_size = int(0.7 * len(dataset))\n",
    "val_size = int(0.1 * len(dataset))\n",
    "test_size = len(dataset) - train_size - val_size\n",
    "train_set, val_set, test_set = random_split(dataset, [train_size, val_size, test_size])\n",
    "\n",
    "train_loader = DataLoader(train_set, batch_size=32, shuffle=True)\n",
    "val_loader = DataLoader(val_set, batch_size=32, shuffle=False)\n",
    "test_loader = DataLoader(test_set, batch_size=32, shuffle=False)"
   ]
  },
  {
   "cell_type": "code",
   "execution_count": 23,
   "metadata": {},
   "outputs": [],
   "source": [
    "def train_model(model, train_loader, val_loader, epochs=10, lr=0.001, device=\"cpu\", batch_size=32):\n",
    "    model = model.to(device)\n",
    "    criterion = nn.MSELoss()\n",
    "    optimizer = torch.optim.Adam(model.parameters(), lr=lr)\n",
    "\n",
    "    for epoch in range(epochs):\n",
    "        # Training phase\n",
    "        model.train()\n",
    "        train_loss = 0\n",
    "        train_bar = tqdm(train_loader, desc=f\"Training Epoch {epoch+1}/{epochs}\")\n",
    "        cnt = 0\n",
    "        for x_batch, y_batch in train_bar:\n",
    "            x_batch, y_batch = x_batch.to(device), y_batch.to(device)\n",
    "            optimizer.zero_grad()\n",
    "            predictions = model(x_batch)\n",
    "            loss = criterion(predictions, y_batch)\n",
    "            loss.backward()\n",
    "            optimizer.step()\n",
    "            train_loss += (loss.item() / batch_size)\n",
    "            cnt += 1\n",
    "            # print(\"Loss item: \", loss.item(), \", train_loss: \", train_loss)\n",
    "            train_bar.set_postfix({\"Train Loss\": (train_loss / cnt) / (len(train_bar) + 1)})\n",
    "\n",
    "        # Validation phase\n",
    "        model.eval()\n",
    "        val_loss = 0\n",
    "        val_bar = tqdm(val_loader, desc=f\"Validation Epoch {epoch+1}/{epochs}\")\n",
    "        cnt_val = 0\n",
    "        with torch.no_grad():\n",
    "            for x_batch, y_batch in val_bar:\n",
    "                x_batch, y_batch = x_batch.to(device), y_batch.to(device)\n",
    "                predictions = model(x_batch)\n",
    "                loss = criterion(predictions, y_batch)\n",
    "                val_loss += loss.item() / batch_size\n",
    "                cnt += 1\n",
    "                val_bar.set_postfix({\"Val Loss\": (val_loss / cnt) / (len(val_bar) + 1)})"
   ]
  },
  {
   "cell_type": "code",
   "execution_count": 24,
   "metadata": {},
   "outputs": [],
   "source": [
    "def test_model(model, test_loader, device=\"cpu\", batch_size = 32):\n",
    "    model = model.to(device)\n",
    "    model.eval()\n",
    "    test_loss = 0\n",
    "    criterion = nn.MSELoss()\n",
    "    test_bar = tqdm(test_loader, desc=\"Testing\")\n",
    "    cnt = 0\n",
    "    with torch.no_grad():\n",
    "        for x_batch, y_batch in test_bar:\n",
    "            x_batch, y_batch = x_batch.to(device), y_batch.to(device)\n",
    "            predictions = model(x_batch)\n",
    "            loss = criterion(predictions, y_batch)\n",
    "            test_loss += loss.item() / batch_size\n",
    "            cnt += 1\n",
    "            test_bar.set_postfix({\"Test Loss\": (test_loss / cnt) / (len(test_bar) + 1)})\n",
    "    print(f\"Test Loss: {test_loss/len(test_loader):.4f}\")"
   ]
  },
  {
   "cell_type": "markdown",
   "metadata": {},
   "source": [
    "### Bi-LSTM"
   ]
  },
  {
   "cell_type": "code",
   "execution_count": 26,
   "metadata": {},
   "outputs": [],
   "source": [
    "# Define the bi-LSTM model\n",
    "class BiLSTMTimePredictor(nn.Module):\n",
    "    def __init__(self, input_dim=2, hidden_dim=128, num_layers=2):\n",
    "        super(BiLSTMTimePredictor, self).__init__()\n",
    "        self.encoder = nn.LSTM(\n",
    "            input_dim, hidden_dim, num_layers=num_layers, batch_first=True, bidirectional=True\n",
    "        )\n",
    "        self.classifier = nn.Linear(hidden_dim * 4, 1)  # *2 because bidirectional\n",
    "        \n",
    "    def forward(self, x):\n",
    "        # print(\"DEBUG: x shape: \", x.shape)\n",
    "        _, (hidden, _) = self.encoder(x)  # hidden shape: (num_layers*2, batch_size, hidden_dim)\n",
    "        # print(\"DEBUG: hidden shape before: \", hidden.shape)\n",
    "        hidden = hidden.permute(1, 0, 2).reshape(x.size(0), -1)  # Flatten hidden states\n",
    "        # print(\"DEBUG: hidden shape: \", hidden.shape)\n",
    "        return self.classifier(hidden).squeeze(-1)"
   ]
  },
  {
   "cell_type": "code",
   "execution_count": 25,
   "metadata": {},
   "outputs": [
    {
     "name": "stderr",
     "output_type": "stream",
     "text": [
      "Training Epoch 1/10: 100%|██████████| 219/219 [00:12<00:00, 17.35it/s, Train Loss=172]\n",
      "Validation Epoch 1/10: 100%|██████████| 32/32 [00:01<00:00, 30.66it/s, Val Loss=140] \n",
      "Training Epoch 2/10: 100%|██████████| 219/219 [00:12<00:00, 17.78it/s, Train Loss=147]\n",
      "Validation Epoch 2/10: 100%|██████████| 32/32 [00:01<00:00, 30.96it/s, Val Loss=123] \n",
      "Training Epoch 3/10: 100%|██████████| 219/219 [00:12<00:00, 17.85it/s, Train Loss=128]\n",
      "Validation Epoch 3/10: 100%|██████████| 32/32 [00:01<00:00, 31.24it/s, Val Loss=108] \n",
      "Training Epoch 4/10: 100%|██████████| 219/219 [00:12<00:00, 17.67it/s, Train Loss=114]\n",
      "Validation Epoch 4/10: 100%|██████████| 32/32 [00:01<00:00, 31.56it/s, Val Loss=97.6]\n",
      "Training Epoch 5/10: 100%|██████████| 219/219 [00:12<00:00, 17.85it/s, Train Loss=102]\n",
      "Validation Epoch 5/10: 100%|██████████| 32/32 [00:01<00:00, 31.87it/s, Val Loss=89.3]\n",
      "Training Epoch 6/10: 100%|██████████| 219/219 [00:12<00:00, 17.67it/s, Train Loss=93.9]\n",
      "Validation Epoch 6/10: 100%|██████████| 32/32 [00:01<00:00, 31.04it/s, Val Loss=83.1]\n",
      "Training Epoch 7/10: 100%|██████████| 219/219 [00:12<00:00, 17.59it/s, Train Loss=87.6]\n",
      "Validation Epoch 7/10: 100%|██████████| 32/32 [00:01<00:00, 31.45it/s, Val Loss=78.7]\n",
      "Training Epoch 8/10: 100%|██████████| 219/219 [00:12<00:00, 17.86it/s, Train Loss=83]  \n",
      "Validation Epoch 8/10: 100%|██████████| 32/32 [00:01<00:00, 31.43it/s, Val Loss=75.5]\n",
      "Training Epoch 9/10: 100%|██████████| 219/219 [00:12<00:00, 17.69it/s, Train Loss=79.9]\n",
      "Validation Epoch 9/10: 100%|██████████| 32/32 [00:01<00:00, 30.93it/s, Val Loss=73.5]\n",
      "Training Epoch 10/10: 100%|██████████| 219/219 [00:12<00:00, 17.69it/s, Train Loss=77.8]\n",
      "Validation Epoch 10/10: 100%|██████████| 32/32 [00:01<00:00, 31.78it/s, Val Loss=72.1]\n",
      "Testing: 100%|██████████| 63/63 [00:02<00:00, 30.78it/s, Test Loss=259]"
     ]
    },
    {
     "name": "stdout",
     "output_type": "stream",
     "text": [
      "Test Loss: 16603.6074\n"
     ]
    },
    {
     "name": "stderr",
     "output_type": "stream",
     "text": [
      "\n"
     ]
    }
   ],
   "source": [
    "# Train the model on both CPU and GPU\n",
    "model = BiLSTMTimePredictor()\n",
    "\n",
    "device = torch.device(\"cuda\" if torch.cuda.is_available() else \"cpu\")\n",
    "train_model(model, train_loader, val_loader, epochs=10, device=device)\n",
    "\n",
    "test_model(model, test_loader, device=device)"
   ]
  },
  {
   "cell_type": "markdown",
   "metadata": {},
   "source": [
    "### Transformer Encoder"
   ]
  },
  {
   "cell_type": "code",
   "execution_count": 19,
   "metadata": {},
   "outputs": [],
   "source": [
    "class TransformerTimePredictor(nn.Module):\n",
    "    def __init__(self, input_dim=2, hidden_dim=128, nhead=4, num_encoder_layers=4, mlp_hidden_dim=256):\n",
    "        \"\"\"\n",
    "        Transformer-based model for time prediction.\n",
    "\n",
    "        Args:\n",
    "            input_dim (int): Number of features in each input step (e.g., 2 for [x, y]).\n",
    "            hidden_dim (int): Embedding dimension for the Transformer.\n",
    "            nhead (int): Number of attention heads in the Transformer.\n",
    "            num_encoder_layers (int): Number of Transformer encoder layers.\n",
    "            mlp_hidden_dim (int): Number of hidden units in the MLP classifier.\n",
    "        \"\"\"\n",
    "        super(TransformerTimePredictor, self).__init__()\n",
    "\n",
    "        # Input embedding layer\n",
    "        self.embedding = nn.Linear(input_dim, hidden_dim)\n",
    "\n",
    "        # Transformer encoder\n",
    "        self.encoder_layer = nn.TransformerEncoderLayer(\n",
    "            d_model=hidden_dim, nhead=nhead, dim_feedforward=hidden_dim * 4, batch_first=True\n",
    "        )\n",
    "        self.transformer_encoder = nn.TransformerEncoder(self.encoder_layer, num_layers=num_encoder_layers)\n",
    "\n",
    "        # MLP classifier\n",
    "        self.classifier = nn.Sequential(\n",
    "            nn.Linear(hidden_dim, mlp_hidden_dim),\n",
    "            nn.ReLU(),\n",
    "            nn.Linear(mlp_hidden_dim, mlp_hidden_dim // 2),\n",
    "            nn.ReLU(),\n",
    "            nn.Linear(mlp_hidden_dim // 2, 1),  # Output a single value\n",
    "        )\n",
    "\n",
    "    def forward(self, x):\n",
    "        # Embed input\n",
    "        x = self.embedding(x)  # Shape: (batch_size, seq_length, hidden_dim)\n",
    "        \n",
    "        # Transformer encoding\n",
    "        x = self.transformer_encoder(x)  # Shape: (batch_size, seq_length, hidden_dim)\n",
    "        \n",
    "        # Use only the first token's representation for classification\n",
    "        x = x[:, 0, :]  # Shape: (batch_size, hidden_dim)\n",
    "        \n",
    "        # Classifier\n",
    "        output = self.classifier(x)  # Shape: (batch_size, 1)\n",
    "        # print(output)\n",
    "        return output.squeeze(-1)"
   ]
  },
  {
   "cell_type": "code",
   "execution_count": null,
   "metadata": {},
   "outputs": [
    {
     "name": "stderr",
     "output_type": "stream",
     "text": [
      "Training Epoch 1/20:  23%|██▎       | 51/219 [00:43<02:24,  1.16it/s, Train Loss=146]"
     ]
    }
   ],
   "source": [
    "model = TransformerTimePredictor(input_dim=2, hidden_dim=256, nhead=8, num_encoder_layers=6, mlp_hidden_dim=256)\n",
    "\n",
    "train_model(model, train_loader, val_loader, epochs=20, device=device)\n",
    "test_model(model, test_loader, device=device)"
   ]
  }
 ],
 "metadata": {
  "kernelspec": {
   "display_name": "mvts",
   "language": "python",
   "name": "python3"
  },
  "language_info": {
   "codemirror_mode": {
    "name": "ipython",
    "version": 3
   },
   "file_extension": ".py",
   "mimetype": "text/x-python",
   "name": "python",
   "nbconvert_exporter": "python",
   "pygments_lexer": "ipython3",
   "version": "3.8.10"
  }
 },
 "nbformat": 4,
 "nbformat_minor": 2
}
