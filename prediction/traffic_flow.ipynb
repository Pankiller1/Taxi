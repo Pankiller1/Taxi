{
 "cells": [
  {
   "cell_type": "code",
   "execution_count": 1,
   "metadata": {},
   "outputs": [],
   "source": [
    "import osmnx as ox\n",
    "import pandas as pd\n",
    "import networkx as nx\n",
    "from shapely.geometry import Point\n",
    "from scipy.spatial import cKDTree\n",
    "import geopandas as gpd"
   ]
  },
  {
   "cell_type": "code",
   "execution_count": 2,
   "metadata": {},
   "outputs": [],
   "source": [
    "G = ox.load_graphml(\"../data/chengdu_road_network.graphml\")\n",
    "nodes, edges = ox.graph_to_gdfs(G)"
   ]
  },
  {
   "cell_type": "code",
   "execution_count": 3,
   "metadata": {},
   "outputs": [
    {
     "name": "stdout",
     "output_type": "stream",
     "text": [
      "Number of nodes: 106957\n",
      "Number of edges: 258601\n"
     ]
    }
   ],
   "source": [
    "# Get the number of nodes and edges in the graph\n",
    "print(\"Number of nodes:\", len(nodes))\n",
    "print(\"Number of edges:\", len(edges))"
   ]
  },
  {
   "cell_type": "code",
   "execution_count": 4,
   "metadata": {},
   "outputs": [],
   "source": [
    "def read_csv_range(format_list, file_pattern = \"../data/chengdu/201408{:02d}.csv\"):\n",
    "    \"\"\"\n",
    "    Reads multiple CSV files from the specified range and appends them into a single DataFrame.\n",
    "\n",
    "    Parameters:\n",
    "        file_pattern (str): The file path pattern, e.g., .\n",
    "        start (int): The starting day.\n",
    "        end (int): The ending day.\n",
    "\n",
    "    Returns:\n",
    "        gpd.GeoDataFrame: Combined GeoDataFrame.\n",
    "    \"\"\"\n",
    "    frames = []\n",
    "    for day in format_list:\n",
    "        file_path = file_pattern.format(day)\n",
    "        df = pd.read_csv(file_path)\n",
    "        df['geometry'] = gpd.points_from_xy(df['Lng'], df['Lat'])\n",
    "        frames.append(df)\n",
    "    combined_df = pd.concat(frames, ignore_index=True)\n",
    "    return gpd.GeoDataFrame(combined_df, geometry='geometry', crs=\"EPSG:4326\"), len(format_list)"
   ]
  },
  {
   "cell_type": "code",
   "execution_count": 5,
   "metadata": {},
   "outputs": [],
   "source": [
    "# Read and combine the CSV files\n",
    "format_list_simple = [3, 4, 5]\n",
    "format_list_full = [3, 4, 5, 6, 8, 9, 10, 11, 12, 13, 14, 15, 16, 17, 18, 19, 20, 21, 22, 23]\n",
    "gdf, n_days = read_csv_range(format_list_simple, \"../data/chengdu/201408{:02d}.csv\")"
   ]
  },
  {
   "cell_type": "code",
   "execution_count": 6,
   "metadata": {},
   "outputs": [],
   "source": [
    "#获取道路中心点\n",
    "edges['midpoint'] = edges.geometry.apply(lambda geom: geom.interpolate(0.5,normalized=True))\n",
    "midpoints = list(zip(edges.midpoint.x,edges.midpoint.y))"
   ]
  },
  {
   "cell_type": "code",
   "execution_count": 7,
   "metadata": {},
   "outputs": [],
   "source": [
    "#使用kdTree将轨迹点与道路匹配\n",
    "tree = cKDTree(midpoints)\n",
    "trajectory_points = list(zip(gdf.geometry.x, gdf.geometry.y))\n",
    "distances, indices = tree.query(trajectory_points)"
   ]
  },
  {
   "cell_type": "code",
   "execution_count": 8,
   "metadata": {},
   "outputs": [],
   "source": [
    "# 将匹配结果保存到轨迹数据中\n",
    "gdf['matched_edge'] = indices\n",
    "gdf['matched_road'] = gdf['matched_edge'].apply(lambda idx: edges.iloc[idx].name)\n",
    "\n",
    "gdf['Hour'] = pd.to_datetime(gdf['Time']).dt.hour"
   ]
  },
  {
   "cell_type": "code",
   "execution_count": 9,
   "metadata": {},
   "outputs": [],
   "source": [
    "# 轨迹点流量计算\n",
    "def calculate_hourly_unique_traffic(group):\n",
    "    # 按小时分组\n",
    "    unique_traffic = []\n",
    "    for hour, hourly_group in group.groupby('Hour'):\n",
    "        hourly_group = hourly_group.sort_values('Time')\n",
    "        hourly_group['road_change'] = hourly_group['matched_road'].shift() != hourly_group['matched_road']\n",
    "        unique_traffic.append(hourly_group[hourly_group['road_change']])\n",
    "    return pd.concat(unique_traffic)"
   ]
  },
  {
   "cell_type": "code",
   "execution_count": 10,
   "metadata": {},
   "outputs": [],
   "source": [
    "unique_traffic_df = gdf.groupby('VehicleNum').apply(calculate_hourly_unique_traffic).reset_index(drop=True)\n",
    "# 初始化每条道路的流量\n",
    "traffic_counts = {road: [0] * 24 for road in edges.index}\n",
    "\n",
    "# 按小时统计每条道路的流量\n",
    "for hour, group in unique_traffic_df.groupby('Hour'):\n",
    "    road_counts = group['matched_road'].value_counts()\n",
    "    for road_id, count in road_counts.items():\n",
    "        traffic_counts[road_id][hour] += count / n_days"
   ]
  },
  {
   "cell_type": "code",
   "execution_count": 11,
   "metadata": {},
   "outputs": [],
   "source": [
    "# 将流量写回轨迹数据\n",
    "def get_hourly_traffic(row):\n",
    "    road_id = row['matched_road']\n",
    "    hour = row['Hour']\n",
    "    return traffic_counts.get(road_id, [0] * 24)[hour]\n",
    "\n",
    "gdf['traffic'] = gdf.apply(get_hourly_traffic, axis=1)"
   ]
  },
  {
   "cell_type": "code",
   "execution_count": 12,
   "metadata": {},
   "outputs": [],
   "source": [
    "# 保存结果\n",
    "gdf.drop(columns=['geometry', 'matched_edge'], inplace=True)  # 删除临时列\n",
    "output_file = \"../data/traffic_average.csv\"\n",
    "gdf.to_csv(output_file, index=False)"
   ]
  },
  {
   "cell_type": "code",
   "execution_count": null,
   "metadata": {},
   "outputs": [],
   "source": []
  }
 ],
 "metadata": {
  "kernelspec": {
   "display_name": "nlp",
   "language": "python",
   "name": "python3"
  },
  "language_info": {
   "codemirror_mode": {
    "name": "ipython",
    "version": 3
   },
   "file_extension": ".py",
   "mimetype": "text/x-python",
   "name": "python",
   "nbconvert_exporter": "python",
   "pygments_lexer": "ipython3",
   "version": "3.11.4"
  }
 },
 "nbformat": 4,
 "nbformat_minor": 2
}
